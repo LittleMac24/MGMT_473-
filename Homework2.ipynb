{
 "cells": [
  {
   "cell_type": "code",
   "id": "initial_id",
   "metadata": {
    "collapsed": true,
    "ExecuteTime": {
     "end_time": "2024-05-28T14:19:18.640548Z",
     "start_time": "2024-05-28T14:18:55.643348Z"
    }
   },
   "source": [
    "import pandas as pd\n",
    "import numpy as np\n",
    "import matplotlib.pyplot as plt\n"
   ],
   "execution_count": 2,
   "outputs": []
  },
  {
   "metadata": {},
   "cell_type": "markdown",
   "source": "HEATMAP & CORRELATION MATRIX",
   "id": "a4134295d11a5ec"
  },
  {
   "metadata": {
    "ExecuteTime": {
     "end_time": "2024-05-28T14:19:18.728705Z",
     "start_time": "2024-05-28T14:19:18.644365Z"
    }
   },
   "cell_type": "code",
   "source": [
    "\n",
    "\n",
    "pathway = \"/Users/michaelwhitfield/Library/CloudStorage/GoogleDrive-purduemacademics@gmail.com/My Drive/Purdue Senior Year/Summer24/MGMT 473/Data Files/Cereals.csv\"\n",
    "cereals_df = pd.read_csv(pathway, sep=',')\n",
    "cereals_df\n"
   ],
   "id": "2d4809e322065cf1",
   "execution_count": 3,
   "outputs": []
  },
  {
   "metadata": {
    "ExecuteTime": {
     "end_time": "2024-05-28T14:19:18.795217Z",
     "start_time": "2024-05-28T14:19:18.732111Z"
    }
   },
   "cell_type": "code",
   "source": [
    "corr_matrix = cereals_df.corr(numeric_only=True)\n",
    "round(corr_matrix, 2)"
   ],
   "id": "86ab88e44bf9798a",
   "execution_count": 4,
   "outputs": []
  },
  {
   "metadata": {
    "ExecuteTime": {
     "end_time": "2024-05-28T14:19:23.426909Z",
     "start_time": "2024-05-28T14:19:18.808494Z"
    }
   },
   "cell_type": "code",
   "source": [
    "figure, axis = plt.subplots()\n",
    "heatmap = axis.imshow(corr_matrix, cmap= \"autumn\", vmin=-1,  vmax= 1)\n",
    "axis.set_title(\"Heatmap\")\n",
    "for i in range(13):\n",
    "    for j in range(13):\n",
    "        axis.annotate(f'{corr_matrix.iloc[i,j]:.1f}', xy = (i, j) , ha = 'center', va= \"center\", color='white')\n",
    "\n",
    "colorbar = figure.colorbar(heatmap, ticks = [-1,0,1])\n",
    "# axis.colorbar(ticks = [-1,0,1])\n",
    "plt.show()\n",
    "# heatmap = plt.imshow(corr_matrix, cmap = \"autumn\")\n",
    "# plt.title(\"Heatmap\")\n",
    "# type(plt)\n",
    "# heatmap"
   ],
   "id": "c41086bbcc458b88",
   "execution_count": 5,
   "outputs": []
  },
  {
   "metadata": {},
   "cell_type": "markdown",
   "source": "#SciKit Learn--Linear Regression\n",
   "id": "d1d52be7267287c5"
  },
  {
   "metadata": {
    "ExecuteTime": {
     "end_time": "2024-05-28T15:42:52.161158Z",
     "start_time": "2024-05-28T15:42:51.928028Z"
    }
   },
   "cell_type": "code",
   "source": [
    "from sklearn import linear_model\n",
    "from sklearn.feature_selection import SequentialFeatureSelector\n",
    "# from mlxtend.feature_selection import SequentialFeatureSelector as sfs\n",
    "\n",
    "boston_housing_path = \"/Users/michaelwhitfield/Library/CloudStorage/GoogleDrive-purduemacademics@gmail.com/My Drive/Purdue Senior Year/Summer24/MGMT 473/Data Files/BostonHousing.csv\"\n",
    "boston_housing_df = pd.read_csv(boston_housing_path, sep= \",\")"
   ],
   "id": "68f291a68a97a686",
   "execution_count": 33,
   "outputs": []
  },
  {
   "metadata": {
    "ExecuteTime": {
     "end_time": "2024-05-28T14:20:02.496971Z",
     "start_time": "2024-05-28T14:20:02.461379Z"
    }
   },
   "cell_type": "code",
   "source": "boston_housing_df",
   "id": "db43eedf83190de0",
   "execution_count": 7,
   "outputs": []
  },
  {
   "metadata": {
    "ExecuteTime": {
     "end_time": "2024-05-28T14:26:28.304993Z",
     "start_time": "2024-05-28T14:26:28.173049Z"
    }
   },
   "cell_type": "code",
   "source": [
    "X_values = boston_housing_df.iloc[:,:-2]\n",
    "X_values"
   ],
   "id": "cb80cdcbac54894d",
   "execution_count": 10,
   "outputs": []
  },
  {
   "metadata": {
    "ExecuteTime": {
     "end_time": "2024-05-28T14:31:52.625566Z",
     "start_time": "2024-05-28T14:31:52.615489Z"
    }
   },
   "cell_type": "code",
   "source": [
    "\n",
    "y_values = boston_housing_df[\"MEDV\"]\n",
    "y_values"
   ],
   "id": "cdccd9401070b457",
   "execution_count": 18,
   "outputs": []
  },
  {
   "metadata": {
    "ExecuteTime": {
     "end_time": "2024-05-28T16:53:06.398547Z",
     "start_time": "2024-05-28T16:53:02.223940Z"
    }
   },
   "cell_type": "code",
   "source": [
    "lr_model = linear_model.LinearRegression()\n",
    "sfs_forward = sfs(lr_model,\n",
    "                  k_features=\"best\",\n",
    "                  forward=True,\n",
    "                  verbose= 2,\n",
    "                  scoring= \"r2\",\n",
    "                  cv=5).fit(X_values,y_values)\n",
    "# sfs_forward = sfs_forward.fit(X_values,y_values)\n",
    "# forward_features = sfs_forward.k_feature_names_\n",
    "# print(forward_features)\n",
    "# SFS_forward = SequentialFeatureSelector(lr_model,direction=\"forward\",scoring=\"r2\")\n",
    "# SFS_forward = SFS_forward.fit(X_values,y_values)\n",
    "# forward_features = SFS_forward.\n",
    "# print(forward_features)"
   ],
   "id": "a0fc7f4347d5e732",
   "execution_count": 40,
   "outputs": []
  },
  {
   "metadata": {
    "ExecuteTime": {
     "end_time": "2024-05-28T15:50:29.713030Z",
     "start_time": "2024-05-28T15:50:25.668849Z"
    }
   },
   "cell_type": "code",
   "source": [
    "sfs_backward = sfs(lr_model,\n",
    "                  k_features=\"best\",\n",
    "                  forward=False,\n",
    "                  scoring= \"r2\",\n",
    "                  cv=5)\n",
    "sfs_backward = sfs_backward.fit(X_values,y_values)\n",
    "backward_features = sfs_backward.k_feature_names_\n",
    "print(backward_features)"
   ],
   "id": "84bb9ed92dd28278",
   "execution_count": 38,
   "outputs": []
  },
  {
   "metadata": {},
   "cell_type": "markdown",
   "source": "LASSO REGRESSION",
   "id": "2e677a3a349f77d8"
  },
  {
   "metadata": {
    "ExecuteTime": {
     "end_time": "2024-05-28T21:11:55.758246Z",
     "start_time": "2024-05-28T21:11:55.699852Z"
    }
   },
   "cell_type": "code",
   "source": "feature_names = list(X_values.columns)",
   "id": "727758afae9e9150",
   "execution_count": 47,
   "outputs": []
  },
  {
   "metadata": {
    "ExecuteTime": {
     "end_time": "2024-05-28T21:12:32.257206Z",
     "start_time": "2024-05-28T21:12:32.182395Z"
    }
   },
   "cell_type": "code",
   "source": "from sklearn.model_selection import train_test_split",
   "id": "bd51c396846cfdb7",
   "execution_count": 48,
   "outputs": []
  },
  {
   "metadata": {
    "ExecuteTime": {
     "end_time": "2024-05-28T21:13:40.843680Z",
     "start_time": "2024-05-28T21:13:40.435246Z"
    }
   },
   "cell_type": "code",
   "source": "X_train, X_test, y_train, y_test = train_test_split(X_values,y_values, test_size=.2, random_state=24)",
   "id": "5c7e672180b4e0ab",
   "execution_count": 50,
   "outputs": []
  },
  {
   "metadata": {
    "ExecuteTime": {
     "end_time": "2024-05-28T21:16:32.118770Z",
     "start_time": "2024-05-28T21:16:32.054226Z"
    }
   },
   "cell_type": "code",
   "source": "from sklearn.preprocessing import StandardScaler",
   "id": "75398c93ee2f716a",
   "execution_count": 52,
   "outputs": []
  },
  {
   "metadata": {
    "ExecuteTime": {
     "end_time": "2024-05-28T21:16:32.943182Z",
     "start_time": "2024-05-28T21:16:32.919295Z"
    }
   },
   "cell_type": "code",
   "source": "scaler = StandardScaler()",
   "id": "54323f77782edba3",
   "execution_count": 53,
   "outputs": []
  },
  {
   "metadata": {
    "ExecuteTime": {
     "end_time": "2024-05-28T21:17:01.585993Z",
     "start_time": "2024-05-28T21:17:01.418526Z"
    }
   },
   "cell_type": "code",
   "source": "X_train = scaler.fit_transform(X_train)",
   "id": "77f2ede12a8debb7",
   "execution_count": 54,
   "outputs": []
  },
  {
   "metadata": {
    "ExecuteTime": {
     "end_time": "2024-05-28T21:17:16.965831Z",
     "start_time": "2024-05-28T21:17:16.855628Z"
    }
   },
   "cell_type": "code",
   "source": "X_test = scaler.fit_transform(X_test)",
   "id": "b7e1b436df634fef",
   "execution_count": 55,
   "outputs": []
  },
  {
   "metadata": {
    "ExecuteTime": {
     "end_time": "2024-05-28T21:17:35.764747Z",
     "start_time": "2024-05-28T21:17:35.737657Z"
    }
   },
   "cell_type": "code",
   "source": "from sklearn.linear_model import Lasso",
   "id": "a8f304043cf9e875",
   "execution_count": 56,
   "outputs": []
  },
  {
   "metadata": {
    "ExecuteTime": {
     "end_time": "2024-05-28T21:17:43.170038Z",
     "start_time": "2024-05-28T21:17:43.151468Z"
    }
   },
   "cell_type": "code",
   "source": "lasso = Lasso()",
   "id": "c46012b591d80ed",
   "execution_count": 57,
   "outputs": []
  },
  {
   "metadata": {
    "ExecuteTime": {
     "end_time": "2024-05-28T21:18:24.094858Z",
     "start_time": "2024-05-28T21:18:23.752260Z"
    }
   },
   "cell_type": "code",
   "source": "lasso.fit(X_train,y_train)",
   "id": "39b6edf032da3d5e",
   "execution_count": 58,
   "outputs": []
  },
  {
   "metadata": {
    "ExecuteTime": {
     "end_time": "2024-05-28T21:19:32.424403Z",
     "start_time": "2024-05-28T21:19:32.355794Z"
    }
   },
   "cell_type": "code",
   "source": "from sklearn.metrics import mean_absolute_error,mean_squared_error, r2_score",
   "id": "1e81608ab0a61b39",
   "execution_count": 59,
   "outputs": []
  },
  {
   "metadata": {
    "ExecuteTime": {
     "end_time": "2024-05-28T21:22:48.608159Z",
     "start_time": "2024-05-28T21:22:48.403896Z"
    }
   },
   "cell_type": "code",
   "source": "y_pred = lasso.predict(X_test)",
   "id": "da3a890164d9a02c",
   "execution_count": 60,
   "outputs": []
  },
  {
   "metadata": {
    "ExecuteTime": {
     "end_time": "2024-05-28T21:23:22.711931Z",
     "start_time": "2024-05-28T21:23:22.579751Z"
    }
   },
   "cell_type": "code",
   "source": "mean_absolute_error(y_test,y_pred)",
   "id": "c4498236550ee647",
   "execution_count": 61,
   "outputs": []
  },
  {
   "metadata": {
    "ExecuteTime": {
     "end_time": "2024-05-28T21:24:06.519622Z",
     "start_time": "2024-05-28T21:24:06.381567Z"
    }
   },
   "cell_type": "code",
   "source": "mean_squared_error(y_test,y_pred)",
   "id": "9aa5a26e8b2c6100",
   "execution_count": 62,
   "outputs": []
  },
  {
   "metadata": {
    "ExecuteTime": {
     "end_time": "2024-05-28T21:24:30.543429Z",
     "start_time": "2024-05-28T21:24:30.428535Z"
    }
   },
   "cell_type": "code",
   "source": "r2_score(y_test,y_pred)",
   "id": "649f1c6117e06704",
   "execution_count": 63,
   "outputs": []
  },
  {
   "metadata": {
    "ExecuteTime": {
     "end_time": "2024-05-28T21:26:24.862084Z",
     "start_time": "2024-05-28T21:26:21.813755Z"
    }
   },
   "cell_type": "code",
   "source": "import sklearn.pipeline",
   "id": "c422f7c579d75c4c",
   "execution_count": 64,
   "outputs": []
  },
  {
   "metadata": {
    "ExecuteTime": {
     "end_time": "2024-05-28T21:28:46.866770Z",
     "start_time": "2024-05-28T21:28:46.783531Z"
    }
   },
   "cell_type": "code",
   "source": [
    "parameter_grid = {\n",
    "    'alpha': [0.0001, 0.001, 0.01, 0.1, 1, 10, 100]\n",
    "}"
   ],
   "id": "79a671d7c1e81f0d",
   "execution_count": 65,
   "outputs": []
  },
  {
   "metadata": {
    "ExecuteTime": {
     "end_time": "2024-05-28T21:29:25.594981Z",
     "start_time": "2024-05-28T21:29:25.496964Z"
    }
   },
   "cell_type": "code",
   "source": "from sklearn.model_selection import GridSearchCV",
   "id": "aa4a82f4087a4fa6",
   "execution_count": 66,
   "outputs": []
  },
  {
   "metadata": {
    "ExecuteTime": {
     "end_time": "2024-05-28T21:30:23.581345Z",
     "start_time": "2024-05-28T21:30:23.508517Z"
    }
   },
   "cell_type": "code",
   "source": "lasso_cv = GridSearchCV(lasso, parameter_grid, cv=3, n_jobs=-1)",
   "id": "adb97248afccd0dd",
   "execution_count": 67,
   "outputs": []
  },
  {
   "metadata": {
    "ExecuteTime": {
     "end_time": "2024-05-28T21:31:01.539018Z",
     "start_time": "2024-05-28T21:30:49.051700Z"
    }
   },
   "cell_type": "code",
   "source": "lasso_cv.fit(X_train, y_train)",
   "id": "a442a18abb8e7a0c",
   "execution_count": 68,
   "outputs": []
  },
  {
   "metadata": {
    "ExecuteTime": {
     "end_time": "2024-05-28T21:32:51.698381Z",
     "start_time": "2024-05-28T21:32:51.632745Z"
    }
   },
   "cell_type": "code",
   "source": "y_pred2 = lasso_cv.predict(X_test)",
   "id": "c06fcd6e0c5d36b0",
   "execution_count": 69,
   "outputs": []
  },
  {
   "metadata": {
    "ExecuteTime": {
     "end_time": "2024-05-28T21:33:11.352510Z",
     "start_time": "2024-05-28T21:33:11.258683Z"
    }
   },
   "cell_type": "code",
   "source": "mean_absolute_error(y_test, y_pred2)",
   "id": "3456f46a8a0f2998",
   "execution_count": 70,
   "outputs": []
  },
  {
   "metadata": {
    "ExecuteTime": {
     "end_time": "2024-05-28T21:33:39.190817Z",
     "start_time": "2024-05-28T21:33:39.168235Z"
    }
   },
   "cell_type": "code",
   "source": "mean_squared_error(y_test, y_pred2)",
   "id": "f7a62ae6bbdb8f00",
   "execution_count": 71,
   "outputs": []
  },
  {
   "metadata": {
    "ExecuteTime": {
     "end_time": "2024-05-28T21:34:07.440244Z",
     "start_time": "2024-05-28T21:34:07.329072Z"
    }
   },
   "cell_type": "code",
   "source": "r2_score(y_test,y_pred2)",
   "id": "2d810a29e4895704",
   "execution_count": 72,
   "outputs": []
  },
  {
   "metadata": {
    "ExecuteTime": {
     "end_time": "2024-05-28T21:37:07.422690Z",
     "start_time": "2024-05-28T21:37:07.407519Z"
    }
   },
   "cell_type": "code",
   "source": "lasso3 = Lasso(alpha=.01)",
   "id": "50ebf87b86272d3",
   "execution_count": 74,
   "outputs": []
  },
  {
   "metadata": {
    "ExecuteTime": {
     "end_time": "2024-05-28T21:37:20.551106Z",
     "start_time": "2024-05-28T21:37:20.475673Z"
    }
   },
   "cell_type": "code",
   "source": "lasso3.fit(X_train,y_train)",
   "id": "43f0b362101ee35a",
   "execution_count": 75,
   "outputs": []
  },
  {
   "metadata": {
    "ExecuteTime": {
     "end_time": "2024-05-28T21:37:37.481055Z",
     "start_time": "2024-05-28T21:37:37.458071Z"
    }
   },
   "cell_type": "code",
   "source": "lasso3.intercept_",
   "id": "362b9abfd4b05a04",
   "execution_count": 76,
   "outputs": []
  },
  {
   "metadata": {
    "ExecuteTime": {
     "end_time": "2024-05-28T21:37:45.128603Z",
     "start_time": "2024-05-28T21:37:45.032442Z"
    }
   },
   "cell_type": "code",
   "source": "lasso3.coef_",
   "id": "1344ccbb417b2320",
   "execution_count": 77,
   "outputs": []
  },
  {
   "metadata": {
    "ExecuteTime": {
     "end_time": "2024-05-28T21:39:46.017505Z",
     "start_time": "2024-05-28T21:39:45.878798Z"
    }
   },
   "cell_type": "code",
   "source": "df = pd.DataFrame({\"Feature_Names\": feature_names, \"Coef\": lasso3.coef_})",
   "id": "f704b2fb7b2c3af0",
   "execution_count": 78,
   "outputs": []
  },
  {
   "metadata": {
    "ExecuteTime": {
     "end_time": "2024-05-28T21:39:48.713470Z",
     "start_time": "2024-05-28T21:39:48.635545Z"
    }
   },
   "cell_type": "code",
   "source": "df",
   "id": "9f5f96512551c678",
   "execution_count": 79,
   "outputs": []
  },
  {
   "metadata": {},
   "cell_type": "markdown",
   "source": "RIDGE REGRESSION",
   "id": "d237d013d33297d0"
  },
  {
   "metadata": {
    "ExecuteTime": {
     "end_time": "2024-05-28T21:52:45.178704Z",
     "start_time": "2024-05-28T21:52:45.103045Z"
    }
   },
   "cell_type": "code",
   "source": "from sklearn.linear_model import Ridge",
   "id": "d3d370d2f725614d",
   "execution_count": 80,
   "outputs": []
  },
  {
   "metadata": {
    "ExecuteTime": {
     "end_time": "2024-05-28T21:53:09.810213Z",
     "start_time": "2024-05-28T21:53:09.754324Z"
    }
   },
   "cell_type": "code",
   "source": "ridge = Ridge()",
   "id": "f0b3d47c65aab1a7",
   "execution_count": 81,
   "outputs": []
  },
  {
   "metadata": {
    "ExecuteTime": {
     "end_time": "2024-05-28T21:53:42.896168Z",
     "start_time": "2024-05-28T21:53:42.479264Z"
    }
   },
   "cell_type": "code",
   "source": "ridge.fit(X_train, y_train)",
   "id": "bf7573eb54af07be",
   "execution_count": 82,
   "outputs": []
  },
  {
   "metadata": {
    "ExecuteTime": {
     "end_time": "2024-05-28T21:54:45.674935Z",
     "start_time": "2024-05-28T21:54:45.595831Z"
    }
   },
   "cell_type": "code",
   "source": "y_pred_ridge = ridge.predict(X_test)",
   "id": "fec6ea95d9754f28",
   "execution_count": 83,
   "outputs": []
  },
  {
   "metadata": {
    "ExecuteTime": {
     "end_time": "2024-05-28T21:55:45.176259Z",
     "start_time": "2024-05-28T21:55:45.142827Z"
    }
   },
   "cell_type": "code",
   "source": "mean_absolute_error(y_test,y_pred_ridge)",
   "id": "b35fee12b1a79acb",
   "execution_count": 85,
   "outputs": []
  },
  {
   "metadata": {
    "ExecuteTime": {
     "end_time": "2024-05-28T21:56:05.361309Z",
     "start_time": "2024-05-28T21:56:05.237378Z"
    }
   },
   "cell_type": "code",
   "source": "mean_squared_error(y_test,y_pred_ridge)",
   "id": "bb4aefd493872e25",
   "execution_count": 86,
   "outputs": []
  },
  {
   "metadata": {
    "ExecuteTime": {
     "end_time": "2024-05-28T21:56:17.846946Z",
     "start_time": "2024-05-28T21:56:17.816727Z"
    }
   },
   "cell_type": "code",
   "source": "r2_score(y_test,y_pred_ridge)",
   "id": "e56a47c9b1148db0",
   "execution_count": 87,
   "outputs": []
  },
  {
   "metadata": {
    "ExecuteTime": {
     "end_time": "2024-05-28T22:03:35.975486Z",
     "start_time": "2024-05-28T22:03:35.830221Z"
    }
   },
   "cell_type": "code",
   "source": "ridge_cv = GridSearchCV(ridge, parameter_grid, cv=3, n_jobs=-1)",
   "id": "72ba294cb269b813",
   "execution_count": 88,
   "outputs": []
  },
  {
   "metadata": {
    "ExecuteTime": {
     "end_time": "2024-05-28T22:04:38.670575Z",
     "start_time": "2024-05-28T22:04:25.080459Z"
    }
   },
   "cell_type": "code",
   "source": "ridge_cv.fit(X_train,y_train)",
   "id": "e329ddacfe10bf44",
   "execution_count": 89,
   "outputs": []
  },
  {
   "metadata": {
    "ExecuteTime": {
     "end_time": "2024-05-28T22:11:29.940224Z",
     "start_time": "2024-05-28T22:11:29.330982Z"
    }
   },
   "cell_type": "code",
   "source": "y_pred_ridge2 = ridge_cv.predict(X_test)",
   "id": "d7c1fbae6a936b0e",
   "execution_count": 90,
   "outputs": []
  },
  {
   "metadata": {
    "ExecuteTime": {
     "end_time": "2024-05-28T22:12:55.193413Z",
     "start_time": "2024-05-28T22:12:54.911669Z"
    }
   },
   "cell_type": "code",
   "source": "mean_absolute_error(y_test,y_pred_ridge2)",
   "id": "e7e3e43f1a90f4ff",
   "execution_count": 91,
   "outputs": []
  },
  {
   "metadata": {
    "ExecuteTime": {
     "end_time": "2024-05-28T22:13:23.480907Z",
     "start_time": "2024-05-28T22:13:23.274630Z"
    }
   },
   "cell_type": "code",
   "source": "mean_squared_error(y_test,y_pred_ridge2)",
   "id": "24fd87c28950f5fd",
   "execution_count": 92,
   "outputs": []
  },
  {
   "metadata": {
    "ExecuteTime": {
     "end_time": "2024-05-28T22:13:32.485580Z",
     "start_time": "2024-05-28T22:13:32.428909Z"
    }
   },
   "cell_type": "code",
   "source": "r2_score(y_test,y_pred_ridge2)",
   "id": "185d0fe1034e9562",
   "execution_count": 93,
   "outputs": []
  },
  {
   "metadata": {
    "ExecuteTime": {
     "end_time": "2024-05-28T22:16:08.845605Z",
     "start_time": "2024-05-28T22:16:08.780811Z"
    }
   },
   "cell_type": "code",
   "source": "ridge_cv.best_estimator_.intercept_",
   "id": "99a7d206c165f336",
   "execution_count": 94,
   "outputs": []
  },
  {
   "metadata": {
    "ExecuteTime": {
     "end_time": "2024-05-28T22:16:39.885133Z",
     "start_time": "2024-05-28T22:16:39.719442Z"
    }
   },
   "cell_type": "code",
   "source": "ridge_cv.best_estimator_.coef_",
   "id": "c9aa004c981d9498",
   "execution_count": 95,
   "outputs": []
  },
  {
   "metadata": {},
   "cell_type": "code",
   "execution_count": null,
   "source": "",
   "id": "1f9b391fe38fc411",
   "outputs": []
  }
 ],
 "metadata": {
  "kernelspec": {
   "display_name": "Python 3",
   "language": "python",
   "name": "python3"
  },
  "language_info": {
   "codemirror_mode": {
    "name": "ipython",
    "version": 2
   },
   "file_extension": ".py",
   "mimetype": "text/x-python",
   "name": "python",
   "nbconvert_exporter": "python",
   "pygments_lexer": "ipython2",
   "version": "2.7.6"
  }
 },
 "nbformat": 4,
 "nbformat_minor": 5
}
